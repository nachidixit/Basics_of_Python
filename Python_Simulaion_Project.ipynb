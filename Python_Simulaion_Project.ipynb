{
 "cells": [
  {
   "cell_type": "markdown",
   "id": "eac3a1e2-1317-41c8-a9f8-da52710d5ce4",
   "metadata": {},
   "source": [
    "## Simulate an ATM system where the user has a balance of $1000. They can withdraw money until their balance is insufficient or they choose to exit. Use your own creativity to make a secure and smooth transaction.\n"
   ]
  },
  {
   "cell_type": "code",
   "execution_count": 4,
   "id": "b0ed180a-5f0a-4be2-b9d6-e95848ec5757",
   "metadata": {},
   "outputs": [
    {
     "name": "stdin",
     "output_type": "stream",
     "text": [
      "Enter Your password: abc123\n"
     ]
    },
    {
     "name": "stdout",
     "output_type": "stream",
     "text": [
      "Login successful. Welcome to XYZ bank ATM.\n",
      "Select bank account type from below, \n",
      " 1. Savings \n"
     ]
    },
    {
     "name": "stdin",
     "output_type": "stream",
     "text": [
      "Please, select your transaction: 1\n"
     ]
    },
    {
     "name": "stdout",
     "output_type": "stream",
     "text": [
      "Hello! your current balance is 1000.\n",
      "Select transaction method: \n",
      " 1. withdrawal \n"
     ]
    },
    {
     "name": "stdin",
     "output_type": "stream",
     "text": [
      "Enter method of transaction:  1\n",
      "Enter your amount: 200\n"
     ]
    },
    {
     "name": "stdout",
     "output_type": "stream",
     "text": [
      "Withdrawl of 200 is in process. Please, collect your cash.\n",
      "Your current balance after withdrawl is 800.\n"
     ]
    }
   ],
   "source": [
    "correct_password = \"abc123\"\n",
    "attempt = 0\n",
    "attempt_left = 3\n",
    "balance = 1000\n",
    "max_attempt = 5\n",
    "for i in range(3):\n",
    "    user_input = str(input(\"Enter Your password:\"))\n",
    "    attempt+=1\n",
    "    if correct_password == user_input:\n",
    "        print(\"Login successful. Welcome to XYZ bank ATM.\")\n",
    "        for j in range(1, max_attempt+1):\n",
    "            print(\"Select bank account type from below, \\n 1. Savings \")\n",
    "            savings = 1\n",
    "            bank_acc = int(input(\"Please, select your transaction:\"))\n",
    "            if bank_acc == 1:\n",
    "                print(f\"Hello! your current balance is {balance}.\")\n",
    "                print(\"Select transaction method: \\n 1. withdrawal \")\n",
    "                transaction_method = int(input(\"Enter method of transaction: \"))\n",
    "                transaction_amount = eval(input(\"Enter your amount:\"))\n",
    "                if transaction_method == 1 and balance > transaction_amount :\n",
    "                    print(f\"Withdrawl of {transaction_amount} is in process. Please, collect your cash.\")\n",
    "                    balance -= transaction_amount\n",
    "                    print(f\"Your current balance after withdrawl is {balance}.\")\n",
    "                    break\n",
    "                else:\n",
    "                    print(f\"Your balance is inefficient. Current balance is {balance}.\")\n",
    "                    break\n",
    "            else:\n",
    "                print(f\"Invalid bank account type.\")\n",
    "    else:\n",
    "        print(f\"You have {attempt_left-1} attempt left.\")\n",
    "        attempt_left-=1\n",
    "        continue\n",
    "    break  \n"
   ]
  },
  {
   "cell_type": "code",
   "execution_count": null,
   "id": "af8b4b92-24da-4928-a7ef-11b704b98e60",
   "metadata": {},
   "outputs": [],
   "source": []
  }
 ],
 "metadata": {
  "kernelspec": {
   "display_name": "Python 3 (ipykernel)",
   "language": "python",
   "name": "python3"
  },
  "language_info": {
   "codemirror_mode": {
    "name": "ipython",
    "version": 3
   },
   "file_extension": ".py",
   "mimetype": "text/x-python",
   "name": "python",
   "nbconvert_exporter": "python",
   "pygments_lexer": "ipython3",
   "version": "3.12.4"
  }
 },
 "nbformat": 4,
 "nbformat_minor": 5
}
